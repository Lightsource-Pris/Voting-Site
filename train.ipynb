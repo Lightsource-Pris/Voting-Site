{
  "cells": [
    {
      "cell_type": "markdown",
      "metadata": {
        "id": "view-in-github",
        "colab_type": "text"
      },
      "source": [
        "<a href=\"https://colab.research.google.com/github/Lightsource-Pris/Voting-Site/blob/master/train.ipynb\" target=\"_parent\"><img src=\"https://colab.research.google.com/assets/colab-badge.svg\" alt=\"Open In Colab\"/></a>"
      ]
    },
    {
      "cell_type": "code",
      "execution_count": null,
      "id": "8864a753",
      "metadata": {
        "id": "8864a753"
      },
      "outputs": [],
      "source": [
        "#Import important libraries\n",
        "import pandas as pd\n",
        "from sklearn.ensemble import RandomForestClassifier\n",
        "from urllib.parse import urlparse\n",
        "from datetime import datetime\n",
        "import whois\n",
        "import joblib\n",
        "from sklearn.model_selection import train_test_split"
      ]
    },
    {
      "cell_type": "code",
      "execution_count": null,
      "id": "a0f2e147",
      "metadata": {
        "id": "a0f2e147"
      },
      "outputs": [],
      "source": [
        "# Load dataset\n",
        "data = pd.read_csv('train_data.csv')\n",
        "# Calculate 'domain_age' for each URL\n",
        "def calculate_domain_age(url):\n",
        "    domain = urlparse(url).netloc\n",
        "    try:\n",
        "        whois_info = whois.whois(domain)\n",
        "        if isinstance(whois_info.creation_date, list):\n",
        "            registration_date = min(whois_info.creation_date)\n",
        "        else:\n",
        "            registration_date = whois_info.creation_date\n",
        "\n",
        "        current_date = datetime.now()\n",
        "        age = (current_date - registration_date).days\n",
        "        return age\n",
        "    except:\n",
        "        return 0  # Default age in case of an error\n",
        "\n",
        "data['domain_age'] = data['url'].apply(calculate_domain_age)\n",
        "\n",
        "# Calculate 'url_length' for each URL\n",
        "data['url_length'] = data['url'].apply(len)\n",
        "\n",
        "# Define a list of malicious keywords\n",
        "malicious_keywords = ['login', 'cards', 'password', 'card']\n",
        "\n",
        "# Calculate 'keyword_presence' for each URL\n",
        "data['keyword_presence'] = data['url'].apply(lambda url: any(keyword in url for keyword in malicious_keywords))\n",
        "\n",
        "# Save preprocessed dataset\n",
        "data.to_csv('preprocessed_data.csv', index=False)"
      ]
    },
    {
      "cell_type": "code",
      "execution_count": null,
      "id": "e757498f",
      "metadata": {
        "id": "e757498f",
        "outputId": "f6a91867-4ad9-4426-f50c-1bd9306e4a48"
      },
      "outputs": [
        {
          "data": {
            "text/plain": [
              "['phishing_model.pkl']"
            ]
          },
          "execution_count": 7,
          "metadata": {},
          "output_type": "execute_result"
        }
      ],
      "source": [
        "data = pd.read_csv('preprocessed_data.csv')\n",
        "\n",
        "# Define features\n",
        "X = data[['domain_age', 'url_length', 'keyword_presence']]\n",
        "y = data['type']\n",
        "\n",
        "# Split dataset into training and testing sets\n",
        "X_train, X_test, y_train, y_test = train_test_split(X, y, test_size=0.01, random_state=42)\n",
        "\n",
        "# Create and train a RandomForestClassifier\n",
        "model = RandomForestClassifier(n_estimators=100, random_state=42)\n",
        "model.fit(X_train, y_train)\n",
        "\n",
        "# Save trained model to file\n",
        "joblib.dump(model, 'phishing_model.pkl')"
      ]
    },
    {
      "cell_type": "code",
      "execution_count": null,
      "id": "6ddd3e4b",
      "metadata": {
        "id": "6ddd3e4b"
      },
      "outputs": [],
      "source": []
    }
  ],
  "metadata": {
    "kernelspec": {
      "display_name": "Python 3 (ipykernel)",
      "language": "python",
      "name": "python3"
    },
    "language_info": {
      "codemirror_mode": {
        "name": "ipython",
        "version": 3
      },
      "file_extension": ".py",
      "mimetype": "text/x-python",
      "name": "python",
      "nbconvert_exporter": "python",
      "pygments_lexer": "ipython3",
      "version": "3.11.4"
    },
    "colab": {
      "provenance": [],
      "include_colab_link": true
    }
  },
  "nbformat": 4,
  "nbformat_minor": 5
}